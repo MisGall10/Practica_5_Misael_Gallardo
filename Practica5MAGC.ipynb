{
  "nbformat": 4,
  "nbformat_minor": 0,
  "metadata": {
    "colab": {
      "provenance": [],
      "authorship_tag": "ABX9TyOiktp3jSVW3P912skUsLUs",
      "include_colab_link": true
    },
    "kernelspec": {
      "name": "python3",
      "display_name": "Python 3"
    },
    "language_info": {
      "name": "python"
    }
  },
  "cells": [
    {
      "cell_type": "markdown",
      "metadata": {
        "id": "view-in-github",
        "colab_type": "text"
      },
      "source": [
        "<a href=\"https://colab.research.google.com/github/MisGall10/Practica_5_Misael_Gallardo/blob/main/Practica5MAGC.ipynb\" target=\"_parent\"><img src=\"https://colab.research.google.com/assets/colab-badge.svg\" alt=\"Open In Colab\"/></a>"
      ]
    },
    {
      "cell_type": "markdown",
      "source": [
        "# **Practica # 5. Uso de mascaras booleanas**\n",
        "\n",
        "Crea un arreglo unidimensional con 15 números aleatorios entre 1 y 50. Luego:\n",
        "\n",
        "1. Selecciona los elementos mayores que 25 utilizando una máscara booleana.\n",
        "2. Cuenta cuántos elementos son mayores que 25."
      ],
      "metadata": {
        "id": "mAH4kvBMzWK2"
      }
    },
    {
      "cell_type": "code",
      "execution_count": 17,
      "metadata": {
        "colab": {
          "base_uri": "https://localhost:8080/"
        },
        "id": "oyiurNAPzLKC",
        "outputId": "c1ba87c5-6031-472a-8328-4310c8111165"
      },
      "outputs": [
        {
          "output_type": "stream",
          "name": "stdout",
          "text": [
            "Este es el arreglo orginal: [10 21 13 19 23 18 31 14 48 48 29  0  1 29 12]\n",
            "1. Los numeros mayores a 25 son: [31 48 48 29 29]\n",
            "2. La cantidad de elemntos mayores que 25 son: 5\n"
          ]
        }
      ],
      "source": [
        "#Importamos la libreria numpy con el nombre np\n",
        "import numpy as np\n",
        "#Creamos el arreglo que tendra 15 numeros entre 1 y 50\n",
        "arreglo = np.random.randint(0,50,15)\n",
        "#Imprimimos el arreglo orginal\n",
        "print(f'Este es el arreglo orginal: {arreglo}')\n",
        "#Iniciamos la variable mask\n",
        "mask = arreglo > 25\n",
        "#Imprimimos de el arreglo los elementos que sean True\n",
        "print(f'1. Los numeros mayores a 25 son: {arreglo[mask]}')\n",
        "#Imprimimos la longitud de el arreglo de los elementos que sean True\n",
        "print(f'2. La cantidad de elemntos mayores que 25 son: {len(arreglo[mask])}')\n"
      ]
    }
  ]
}